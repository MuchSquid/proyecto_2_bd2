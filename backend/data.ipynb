{
 "cells": [
  {
   "cell_type": "code",
   "execution_count": 1,
   "metadata": {},
   "outputs": [],
   "source": [
    "import pandas as pd"
   ]
  },
  {
   "cell_type": "code",
   "execution_count": 3,
   "metadata": {},
   "outputs": [],
   "source": [
    "df = pd.read_csv('spotify_songs.csv')"
   ]
  },
  {
   "cell_type": "code",
   "execution_count": 4,
   "metadata": {},
   "outputs": [],
   "source": [
    "innecesaryColumns = [\"danceability\", \"energy\", \"key\", \"loudness\", \"mode\", \n",
    "    \"speechiness\", \"acousticness\", \"instrumentalness\", \n",
    "    \"liveness\", \"valence\"]\n",
    "\n",
    "df = df.drop(columns=innecesaryColumns)\n"
   ]
  },
  {
   "cell_type": "code",
   "execution_count": 10,
   "metadata": {},
   "outputs": [
    {
     "name": "stdout",
     "output_type": "stream",
     "text": [
      "                     track_id      track_name    track_artist  \\\n",
      "2      00chLpzhgVjxs1zKC9UScL          Poison  Bell Biv DeVoe   \n",
      "10     00hdjyXt6MohKnCyDmhxOL  Una Vaina Loca           Fuego   \n",
      "13     00i2HU7TEzzftShjRrDSEF         Changes            2Pac   \n",
      "16     00LfFm08VWeZwB0Zlm24AT       Suga Suga       Baby Bash   \n",
      "37     011gUcrvLDn2gEApOdOhVe    Been A While       Sam Feldt   \n",
      "...                       ...             ...             ...   \n",
      "18414  7z85Sqa3JrNebHK8sDtcRG  Crocodile Rock      Elton John   \n",
      "18418  7zdoYASH8iYGR1CQV3m8dY             SOS       McClenney   \n",
      "18427  7zK02QSoQlMO0RAVqN0CI7   Dale Don Dale        Don Omar   \n",
      "18434  7zqjvrNUtLn5wHym65HuA0  Baby I'm Yours            Shai   \n",
      "18450  7zycSpvjDcqh6YT1FEl2kY        Anaconda     Nicki Minaj   \n",
      "\n",
      "                                                  lyrics  track_popularity  \\\n",
      "2      NA Yeah, Spyderman and Freeze in full effect U...                 0   \n",
      "10     Fuego Uoh uoh uoh La musiica del futuroo Yeah!...                 1   \n",
      "13     I see no changes, wake up in the morning and I...                72   \n",
      "16     So tight, so fly You got me lifted, you got me...                 8   \n",
      "37     It's been a while Since I let you Cross my min...                 2   \n",
      "...                                                  ...               ...   \n",
      "18414  I remember when rock was young Me and Susie ha...                 3   \n",
      "18418  Hey, hey, oh, oh Hey, hey, oh, oh Hey, hey, oh...                 5   \n",
      "18427  NA Gocho! Don, Don! (M-V-P) Dale, dale Don, da...                 3   \n",
      "18434  Understand, girl That my heart is in your hand...                22   \n",
      "18450  My anaconda don't, my anaconda don't My anacon...                49   \n",
      "\n",
      "               track_album_id                      track_album_name  \\\n",
      "2      6oZ6brjB8x3GoeSYdwJdPc                                  Gold   \n",
      "10     01nV3KuocS1NJHTsJbPkTO                        Una Vaina Loca   \n",
      "13     4Y9ISbppFbwk0r1XCLUi0I        The Best of 2Pac - Pt. 1: Thug   \n",
      "16     2bAkYizbM1rMbOUHpfAV9z                    Tha Smokin' Nephew   \n",
      "37     4f99odoYED4w3X3EgMrjYG                          Been A While   \n",
      "...                       ...                                   ...   \n",
      "18414  6T9u7scKy8yDe6V1QmXpoJ            Elton John's Greatest Hits   \n",
      "18418  7CHix0EuA9xs2RY2sFi5Pv                                   SOS   \n",
      "18427  1qAvdZ9qvDBNEwzAJkZ68V                       Obsesión Latina   \n",
      "18434  6IjFbX6XC2DMijvzBpP36E  If I Ever Fall In Love - The Best Of   \n",
      "18450  5qs8T6ZHSrnllnOuUk6muC        The Pinkprint (Deluxe Edition)   \n",
      "\n",
      "      track_album_release_date  \\\n",
      "2                   2005-01-01   \n",
      "10                  2011-11-02   \n",
      "13                  2007-01-01   \n",
      "16                  2003-01-01   \n",
      "37                  2016-02-05   \n",
      "...                        ...   \n",
      "18414               1990-01-01   \n",
      "18418               2019-02-19   \n",
      "18427               2014-02-14   \n",
      "18434               2011-01-01   \n",
      "18450               2014-12-15   \n",
      "\n",
      "                                           playlist_name  \\\n",
      "2      Back in the day - R&B, New Jack Swing, Swingbe...   \n",
      "10                                        MIX LATIN POP°   \n",
      "13                90s Gangsta Rap / Top Hip-hop Classics   \n",
      "16                                 90s/00s Hip Hop & RnB   \n",
      "37                                  Chillout & Remixes 💜   \n",
      "...                                                  ...   \n",
      "18414                                  70's Classic Rock   \n",
      "18418                                 I Love My Neo-Soul   \n",
      "18427                                  Reggaeton De Ayer   \n",
      "18434              New Jack Swing/ R&B Hits: 1987 - 2002   \n",
      "18450                                      10er Playlist   \n",
      "\n",
      "                  playlist_id playlist_genre playlist_subgenre    tempo  \\\n",
      "2      3a9y4eeCJRmG9p4YKfqYIx            r&b    new jack swing  111.904   \n",
      "10     6IS6XTdbS9qJZgfjNKgpB8          latin         latin pop  117.009   \n",
      "13     0C2zyPdlkbWHrwVg9gqNdU            rap      gangster rap  111.115   \n",
      "16     0Ar0Ng9DlAWZtSPBvOQgOa            r&b           hip pop   82.331   \n",
      "37     4NlAd9NpIa92IjErMyAriM            pop   indie poptimism  120.004   \n",
      "...                       ...            ...               ...      ...   \n",
      "18414  76lrxCrKrGDkDDf3SVPnl3           rock      classic rock  150.275   \n",
      "18418  37i9dQZF1DX44dZ4p5QLf4            r&b          neo soul   72.950   \n",
      "18427  37i9dQZF1DWWU6Rfto8Ppm          latin         reggaeton   95.028   \n",
      "18434  4sji14lrB5bgcr51lPALYH            r&b    new jack swing  143.813   \n",
      "18450  1kEczIkZH8IgaWT2BiApxZ            pop        electropop  129.990   \n",
      "\n",
      "       duration_ms language  \n",
      "2           262467       en  \n",
      "10          188213       es  \n",
      "13          268960       en  \n",
      "16          239027       en  \n",
      "37          163527       en  \n",
      "...            ...      ...  \n",
      "18414       235067       en  \n",
      "18418       187242       en  \n",
      "18427       214354       es  \n",
      "18434       296105       en  \n",
      "18450       260240       en  \n",
      "\n",
      "[3339 rows x 15 columns]\n"
     ]
    }
   ],
   "source": [
    "duplicados = df[df.duplicated(subset=['track_name', 'track_artist'], keep=False)]\n",
    "print(duplicados)"
   ]
  },
  {
   "cell_type": "code",
   "execution_count": 11,
   "metadata": {},
   "outputs": [],
   "source": [
    "df1 = df.drop_duplicates(subset=['track_name', 'track_artist'], keep='first')"
   ]
  },
  {
   "cell_type": "code",
   "execution_count": 12,
   "metadata": {},
   "outputs": [],
   "source": [
    "df1.to_csv('spotifyClean.csv', index=False)"
   ]
  },
  {
   "cell_type": "code",
   "execution_count": 13,
   "metadata": {},
   "outputs": [
    {
     "name": "stdout",
     "output_type": "stream",
     "text": [
      "Archivo limpio guardado como 'spotifyData.csv'.\n"
     ]
    }
   ],
   "source": [
    "\n",
    "with open(\"spotifyClean.csv\", \"r\", encoding=\"utf-8\", errors=\"replace\") as f:\n",
    "    contenido = f.read()\n",
    "\n",
    "contenido_limpio = contenido.replace('\\u2028', '').replace('\\u2029', '')\n",
    "\n",
    "with open(\"spotifyData.csv\", \"w\", encoding=\"utf-8\") as f:\n",
    "    f.write(contenido_limpio)\n",
    "\n",
    "print(\"Archivo limpio guardado como 'spotifyData.csv'.\")\n"
   ]
  },
  {
   "cell_type": "code",
   "execution_count": 15,
   "metadata": {},
   "outputs": [
    {
     "name": "stdout",
     "output_type": "stream",
     "text": [
      "Empty DataFrame\n",
      "Columns: [track_id, track_name, track_artist, lyrics, track_popularity, track_album_id, track_album_name, track_album_release_date, playlist_name, playlist_id, playlist_genre, playlist_subgenre, tempo, duration_ms, language]\n",
      "Index: []\n"
     ]
    }
   ],
   "source": [
    "verificar = df1[df1.duplicated(subset=['track_name', 'track_artist'], keep=False)]\n",
    "print(verificar)"
   ]
  }
 ],
 "metadata": {
  "kernelspec": {
   "display_name": "Python 3",
   "language": "python",
   "name": "python3"
  },
  "language_info": {
   "codemirror_mode": {
    "name": "ipython",
    "version": 3
   },
   "file_extension": ".py",
   "mimetype": "text/x-python",
   "name": "python",
   "nbconvert_exporter": "python",
   "pygments_lexer": "ipython3",
   "version": "3.10.4"
  }
 },
 "nbformat": 4,
 "nbformat_minor": 2
}
